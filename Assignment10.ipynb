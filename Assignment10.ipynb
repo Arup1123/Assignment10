{
 "cells": [
  {
   "cell_type": "markdown",
   "id": "5dd62567-b847-4317-9c1f-c7f7f94e23c3",
   "metadata": {},
   "source": [
    "Assignment 10"
   ]
  },
  {
   "cell_type": "markdown",
   "id": "196d5b68-3b0c-43c6-b8b3-96b4ef71f7fb",
   "metadata": {},
   "source": [
    "Q1. What is multithreading in python? Why is it used? Name the module used to handle threads in python. "
   ]
  },
  {
   "cell_type": "markdown",
   "id": "3291e4ed-05c3-44b0-b5a9-b10c4f00857d",
   "metadata": {},
   "source": [
    "Ans: A thread is a unit of execution within a process. Multithreading refers to concurrently executing multiple threads \n",
    "    by rapidly switching the control of the CPU between threads.\n",
    "    Python multithreading enables efficient utilization of the resourses as the threads share the data space and memory.\n",
    "    Multithreading in python allows the concurrent and parallel occurrence of various tasks. It causes a reduction in\n",
    "    time consumption or responce time, there by increasing the performance.\n",
    "    The module used to handle threads in python is threading. \n"
   ]
  },
  {
   "cell_type": "markdown",
   "id": "f6d0538d-d9a0-4f7d-9a2f-b27c8c35b822",
   "metadata": {},
   "source": [
    "Q2. Why threading module used? Write the use of the following functions:\n",
    "    1. activeCount()\n",
    "    2. currentThread()\n",
    "    3. enumerate()"
   ]
  },
  {
   "cell_type": "markdown",
   "id": "4def0b48-1fba-457d-95e2-a0c504183f18",
   "metadata": {},
   "source": [
    "Ans: In python, threading module provides a very simple and intuitive API for spawning multiple threads in a program.\n",
    "     So we used threading module.\n",
    "     1. activeCount(): It returns the number of thread objects that are active.\n",
    "     2. currentThread(): Returns the number of thread objects in the caller's thread control.\n",
    "     3. enumerate(): Returns a list of all thread objects that are currently active. "
   ]
  },
  {
   "cell_type": "markdown",
   "id": "0c2202d4-3c04-4c03-8f03-3484745e36ed",
   "metadata": {},
   "source": [
    "Q3. Explain the following functions:\n",
    "    1. run()\n",
    "    2. start()\n",
    "    3. join()\n",
    "    4. isAlive()"
   ]
  },
  {
   "cell_type": "markdown",
   "id": "c584e0fe-850a-4218-8603-40716872b8b8",
   "metadata": {},
   "source": [
    "Ans: 1. run(): This method executes any target function belonging to a given thread object that is now active.\n",
    "            It normally executes in the background after the start() method is invoked.\n",
    "     2. start(): This method is an inbuilt method of the thread class of the threading module. It is used to start a thread's\n",
    "                 activity. This method calls the run() method internally which then executes the target method. This method\n",
    "                 must be called at most one time for one thread.\n",
    "     3. join(): This method delays a program's flow of execution untill the target thread has been completely read.\n",
    "                The join() method always return None. there is also a timeout parameter that is set to None by default.\n",
    "                If set otherwise, it must be represented in seconds with a floating point value.\n",
    "     4. isAlive(): This method is an inbuilt method of the thread class of the threading module. It is used to check\n",
    "                   whether that thread is alive or not, i.e it is still running or not. This method returns True if the thread\n",
    "                   is still running and False, otherwise. This method will return True from when the run() method starts                          until just after it finishes. "
   ]
  },
  {
   "cell_type": "markdown",
   "id": "3c60b630-c055-4533-9285-a5c13a27a640",
   "metadata": {},
   "source": [
    "Q4. Write a python program to create two threads. Thread one must print the list of squares and thread two must print \n",
    "    the list of cubes."
   ]
  },
  {
   "cell_type": "code",
   "execution_count": 7,
   "id": "785b576a-6d5c-4946-9830-fc30f1b2ff59",
   "metadata": {},
   "outputs": [
    {
     "name": "stdout",
     "output_type": "stream",
     "text": [
      "Square:0\n",
      "Square:1\n",
      "Square:4\n",
      "Square:9\n",
      "Square:16\n",
      "Square:25\n",
      "Square:36\n",
      "Square:49\n",
      "Square:64\n",
      "Square:81\n"
     ]
    }
   ],
   "source": [
    "#Ans:\n",
    "import threading\n",
    "def square(x):\n",
    "    print(\"Square:{}\".format(x**2))\n",
    "Thread1=[threading.Thread(target=square,args=(i,)) for i in range(10)]\n",
    "for t in Thread1:\n",
    "    t.start()"
   ]
  },
  {
   "cell_type": "code",
   "execution_count": 8,
   "id": "6ec95fb0-b903-4b68-a684-b86f85989699",
   "metadata": {},
   "outputs": [
    {
     "name": "stdout",
     "output_type": "stream",
     "text": [
      "Cube:0\n",
      "Cube:1\n",
      "Cube:8\n",
      "Cube:27\n",
      "Cube:64\n",
      "Cube:125\n",
      "Cube:216\n",
      "Cube:343\n",
      "Cube:512\n",
      "Cube:729\n"
     ]
    }
   ],
   "source": [
    "import threading\n",
    "def cube(a):\n",
    "    print(\"Cube:{}\".format(a**3))\n",
    "Thread2=[threading.Thread(target=cube,args=(i,))for i in range(10)]\n",
    "for t in Thread2:\n",
    "    t.start()"
   ]
  },
  {
   "cell_type": "markdown",
   "id": "82b571d2-bf7d-4027-b7fd-b0dc7d639865",
   "metadata": {},
   "source": [
    "Q5. State advantages and disadvantages of multithreading."
   ]
  },
  {
   "cell_type": "markdown",
   "id": "b824ae9f-6fa1-4bf8-8f8f-abe82df448ce",
   "metadata": {},
   "source": [
    "Ans: Advantages:\n",
    "     1. Enhanced performance by decreased development time.\n",
    "     2. Simplified and streamlined program coding .\n",
    "     3. Simultaneous and parallelized occurrence of tasks.\n",
    "     4. Better use of cache storage by utilization of resources.\n",
    "     5. Decreased cost of maintenance.\n",
    "     6. Better use of CPU resource.\n",
    "     Disadvantages:\n",
    "     1. Complex debugging and testing processes.\n",
    "     2. Overhead switching of context.\n",
    "     3. Increased potential for deadlock occurrence.\n",
    "     4. Increased difficulty level in writing a program.\n",
    "     5. Unpredictable results."
   ]
  },
  {
   "cell_type": "markdown",
   "id": "45c2577a-6da2-4280-9d61-bcc6f6e65b77",
   "metadata": {},
   "source": [
    "Q6. Explain Deadlock and race conditions."
   ]
  },
  {
   "cell_type": "markdown",
   "id": "ee2b4420-de5e-46e2-85fb-75e1c62f5ef1",
   "metadata": {},
   "source": [
    "Ans: Deadlocks can occur when two( or more) threads are blocking each other's progress. For example, thread_1 is waiting\n",
    "     for the release of lock_2 held by thread_2 upon which it will release its lock lock_1, but the same is true for\n",
    "     thread_2, it will release lock_2 only upon the release of lock_1 by thread_1.\n",
    "     This deadlock situation is simulated in the code snippet below(which will raise an exception)\n",
    "     Race condition occurs when multiple threads read and write the same variable i.e they have access to some shared data\n",
    "     and they try to change it at the same time. In such a scenario threads are \"racing\" each other to access/change the data.\n",
    "     Due to this, the values of variables may be unpredictable and vary depending on the timings of context switches of the\n",
    "     processes."
   ]
  }
 ],
 "metadata": {
  "kernelspec": {
   "display_name": "Python 3 (ipykernel)",
   "language": "python",
   "name": "python3"
  },
  "language_info": {
   "codemirror_mode": {
    "name": "ipython",
    "version": 3
   },
   "file_extension": ".py",
   "mimetype": "text/x-python",
   "name": "python",
   "nbconvert_exporter": "python",
   "pygments_lexer": "ipython3",
   "version": "3.10.8"
  }
 },
 "nbformat": 4,
 "nbformat_minor": 5
}
